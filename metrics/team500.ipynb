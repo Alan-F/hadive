{
 "cells": [
  {
   "cell_type": "code",
   "execution_count": 55,
   "metadata": {
    "collapsed": true
   },
   "outputs": [],
   "source": [
    "import numpy as np\n",
    "import pandas as pd"
   ]
  },
  {
   "cell_type": "code",
   "execution_count": 56,
   "metadata": {
    "collapsed": true
   },
   "outputs": [],
   "source": [
    "pred = pd.read_csv('team-count.csv')"
   ]
  },
  {
   "cell_type": "code",
   "execution_count": 83,
   "metadata": {
    "collapsed": false
   },
   "outputs": [
    {
     "data": {
      "text/html": [
       "<div>\n",
       "<table border=\"1\" class=\"dataframe\">\n",
       "  <thead>\n",
       "    <tr style=\"text-align: right;\">\n",
       "      <th></th>\n",
       "      <th>image</th>\n",
       "      <th>predcount</th>\n",
       "      <th>imageid</th>\n",
       "    </tr>\n",
       "  </thead>\n",
       "  <tbody>\n",
       "    <tr>\n",
       "      <th>0</th>\n",
       "      <td>00000.jpg</td>\n",
       "      <td>0</td>\n",
       "      <td>0</td>\n",
       "    </tr>\n",
       "    <tr>\n",
       "      <th>1</th>\n",
       "      <td>00001.jpg</td>\n",
       "      <td>0</td>\n",
       "      <td>1</td>\n",
       "    </tr>\n",
       "    <tr>\n",
       "      <th>2</th>\n",
       "      <td>00002.jpg</td>\n",
       "      <td>0</td>\n",
       "      <td>2</td>\n",
       "    </tr>\n",
       "    <tr>\n",
       "      <th>3</th>\n",
       "      <td>00003.jpg</td>\n",
       "      <td>0</td>\n",
       "      <td>3</td>\n",
       "    </tr>\n",
       "    <tr>\n",
       "      <th>4</th>\n",
       "      <td>00004.jpg</td>\n",
       "      <td>0</td>\n",
       "      <td>4</td>\n",
       "    </tr>\n",
       "  </tbody>\n",
       "</table>\n",
       "</div>"
      ],
      "text/plain": [
       "       image  predcount  imageid\n",
       "0  00000.jpg          0        0\n",
       "1  00001.jpg          0        1\n",
       "2  00002.jpg          0        2\n",
       "3  00003.jpg          0        3\n",
       "4  00004.jpg          0        4"
      ]
     },
     "execution_count": 83,
     "metadata": {},
     "output_type": "execute_result"
    }
   ],
   "source": [
    "pred.head()"
   ]
  },
  {
   "cell_type": "code",
   "execution_count": 84,
   "metadata": {
    "collapsed": false
   },
   "outputs": [],
   "source": [
    "pred['imageid'] = pred.image.map(lambda x: int(x[:5]))"
   ]
  },
  {
   "cell_type": "code",
   "execution_count": 85,
   "metadata": {
    "collapsed": false
   },
   "outputs": [
    {
     "data": {
      "text/html": [
       "<div>\n",
       "<table border=\"1\" class=\"dataframe\">\n",
       "  <thead>\n",
       "    <tr style=\"text-align: right;\">\n",
       "      <th></th>\n",
       "      <th>predcount</th>\n",
       "      <th>imageid</th>\n",
       "    </tr>\n",
       "  </thead>\n",
       "  <tbody>\n",
       "    <tr>\n",
       "      <th>count</th>\n",
       "      <td>549.000000</td>\n",
       "      <td>549.000000</td>\n",
       "    </tr>\n",
       "    <tr>\n",
       "      <th>mean</th>\n",
       "      <td>1.415301</td>\n",
       "      <td>274.000000</td>\n",
       "    </tr>\n",
       "    <tr>\n",
       "      <th>std</th>\n",
       "      <td>1.203183</td>\n",
       "      <td>158.626921</td>\n",
       "    </tr>\n",
       "    <tr>\n",
       "      <th>min</th>\n",
       "      <td>0.000000</td>\n",
       "      <td>0.000000</td>\n",
       "    </tr>\n",
       "    <tr>\n",
       "      <th>25%</th>\n",
       "      <td>1.000000</td>\n",
       "      <td>137.000000</td>\n",
       "    </tr>\n",
       "    <tr>\n",
       "      <th>50%</th>\n",
       "      <td>1.000000</td>\n",
       "      <td>274.000000</td>\n",
       "    </tr>\n",
       "    <tr>\n",
       "      <th>75%</th>\n",
       "      <td>2.000000</td>\n",
       "      <td>411.000000</td>\n",
       "    </tr>\n",
       "    <tr>\n",
       "      <th>max</th>\n",
       "      <td>6.000000</td>\n",
       "      <td>548.000000</td>\n",
       "    </tr>\n",
       "  </tbody>\n",
       "</table>\n",
       "</div>"
      ],
      "text/plain": [
       "        predcount     imageid\n",
       "count  549.000000  549.000000\n",
       "mean     1.415301  274.000000\n",
       "std      1.203183  158.626921\n",
       "min      0.000000    0.000000\n",
       "25%      1.000000  137.000000\n",
       "50%      1.000000  274.000000\n",
       "75%      2.000000  411.000000\n",
       "max      6.000000  548.000000"
      ]
     },
     "execution_count": 85,
     "metadata": {},
     "output_type": "execute_result"
    }
   ],
   "source": [
    "pred.describe()"
   ]
  },
  {
   "cell_type": "code",
   "execution_count": 86,
   "metadata": {
    "collapsed": false
   },
   "outputs": [
    {
     "data": {
      "text/plain": [
       "777"
      ]
     },
     "execution_count": 86,
     "metadata": {},
     "output_type": "execute_result"
    }
   ],
   "source": [
    "pred['predcount'].sum()"
   ]
  },
  {
   "cell_type": "code",
   "execution_count": 87,
   "metadata": {
    "collapsed": false
   },
   "outputs": [
    {
     "data": {
      "text/html": [
       "<div>\n",
       "<table border=\"1\" class=\"dataframe\">\n",
       "  <thead>\n",
       "    <tr style=\"text-align: right;\">\n",
       "      <th></th>\n",
       "      <th>name</th>\n",
       "      <th>imageid</th>\n",
       "      <th>truecount</th>\n",
       "    </tr>\n",
       "  </thead>\n",
       "  <tbody>\n",
       "    <tr>\n",
       "      <th>0</th>\n",
       "      <td>/home/rnam/Documents/ped/data/team500/2016-07-...</td>\n",
       "      <td>0</td>\n",
       "      <td>4</td>\n",
       "    </tr>\n",
       "    <tr>\n",
       "      <th>1</th>\n",
       "      <td>/home/rnam/Documents/ped/data/team500/2016-07-...</td>\n",
       "      <td>1</td>\n",
       "      <td>4</td>\n",
       "    </tr>\n",
       "    <tr>\n",
       "      <th>2</th>\n",
       "      <td>/home/rnam/Documents/ped/data/team500/2016-07-...</td>\n",
       "      <td>2</td>\n",
       "      <td>4</td>\n",
       "    </tr>\n",
       "    <tr>\n",
       "      <th>3</th>\n",
       "      <td>/home/rnam/Documents/ped/data/team500/2016-07-...</td>\n",
       "      <td>3</td>\n",
       "      <td>4</td>\n",
       "    </tr>\n",
       "    <tr>\n",
       "      <th>4</th>\n",
       "      <td>/home/rnam/Documents/ped/data/team500/2016-07-...</td>\n",
       "      <td>4</td>\n",
       "      <td>4</td>\n",
       "    </tr>\n",
       "  </tbody>\n",
       "</table>\n",
       "</div>"
      ],
      "text/plain": [
       "                                                name  imageid  truecount\n",
       "0  /home/rnam/Documents/ped/data/team500/2016-07-...        0          4\n",
       "1  /home/rnam/Documents/ped/data/team500/2016-07-...        1          4\n",
       "2  /home/rnam/Documents/ped/data/team500/2016-07-...        2          4\n",
       "3  /home/rnam/Documents/ped/data/team500/2016-07-...        3          4\n",
       "4  /home/rnam/Documents/ped/data/team500/2016-07-...        4          4"
      ]
     },
     "execution_count": 87,
     "metadata": {},
     "output_type": "execute_result"
    }
   ],
   "source": [
    "ground = pd.read_csv('name.csv')\n",
    "ground.head()"
   ]
  },
  {
   "cell_type": "code",
   "execution_count": 88,
   "metadata": {
    "collapsed": false
   },
   "outputs": [],
   "source": [
    "result = pd.merge(ground, pred, how='inner',on='imageid')"
   ]
  },
  {
   "cell_type": "code",
   "execution_count": 89,
   "metadata": {
    "collapsed": false
   },
   "outputs": [
    {
     "data": {
      "text/html": [
       "<div>\n",
       "<table border=\"1\" class=\"dataframe\">\n",
       "  <thead>\n",
       "    <tr style=\"text-align: right;\">\n",
       "      <th></th>\n",
       "      <th>name</th>\n",
       "      <th>imageid</th>\n",
       "      <th>truecount</th>\n",
       "      <th>image</th>\n",
       "      <th>predcount</th>\n",
       "    </tr>\n",
       "  </thead>\n",
       "  <tbody>\n",
       "    <tr>\n",
       "      <th>0</th>\n",
       "      <td>/home/rnam/Documents/ped/data/team500/2016-07-...</td>\n",
       "      <td>0</td>\n",
       "      <td>4</td>\n",
       "      <td>00000.jpg</td>\n",
       "      <td>0</td>\n",
       "    </tr>\n",
       "    <tr>\n",
       "      <th>1</th>\n",
       "      <td>/home/rnam/Documents/ped/data/team500/2016-07-...</td>\n",
       "      <td>1</td>\n",
       "      <td>4</td>\n",
       "      <td>00001.jpg</td>\n",
       "      <td>0</td>\n",
       "    </tr>\n",
       "    <tr>\n",
       "      <th>2</th>\n",
       "      <td>/home/rnam/Documents/ped/data/team500/2016-07-...</td>\n",
       "      <td>2</td>\n",
       "      <td>4</td>\n",
       "      <td>00002.jpg</td>\n",
       "      <td>0</td>\n",
       "    </tr>\n",
       "    <tr>\n",
       "      <th>3</th>\n",
       "      <td>/home/rnam/Documents/ped/data/team500/2016-07-...</td>\n",
       "      <td>3</td>\n",
       "      <td>4</td>\n",
       "      <td>00003.jpg</td>\n",
       "      <td>0</td>\n",
       "    </tr>\n",
       "    <tr>\n",
       "      <th>4</th>\n",
       "      <td>/home/rnam/Documents/ped/data/team500/2016-07-...</td>\n",
       "      <td>4</td>\n",
       "      <td>4</td>\n",
       "      <td>00004.jpg</td>\n",
       "      <td>0</td>\n",
       "    </tr>\n",
       "    <tr>\n",
       "      <th>5</th>\n",
       "      <td>/home/rnam/Documents/ped/data/team500/2016-07-...</td>\n",
       "      <td>5</td>\n",
       "      <td>4</td>\n",
       "      <td>00005.jpg</td>\n",
       "      <td>0</td>\n",
       "    </tr>\n",
       "    <tr>\n",
       "      <th>6</th>\n",
       "      <td>/home/rnam/Documents/ped/data/team500/2016-07-...</td>\n",
       "      <td>6</td>\n",
       "      <td>4</td>\n",
       "      <td>00006.jpg</td>\n",
       "      <td>0</td>\n",
       "    </tr>\n",
       "    <tr>\n",
       "      <th>7</th>\n",
       "      <td>/home/rnam/Documents/ped/data/team500/2016-07-...</td>\n",
       "      <td>7</td>\n",
       "      <td>4</td>\n",
       "      <td>00007.jpg</td>\n",
       "      <td>1</td>\n",
       "    </tr>\n",
       "    <tr>\n",
       "      <th>8</th>\n",
       "      <td>/home/rnam/Documents/ped/data/team500/2016-07-...</td>\n",
       "      <td>8</td>\n",
       "      <td>4</td>\n",
       "      <td>00008.jpg</td>\n",
       "      <td>0</td>\n",
       "    </tr>\n",
       "    <tr>\n",
       "      <th>9</th>\n",
       "      <td>/home/rnam/Documents/ped/data/team500/2016-07-...</td>\n",
       "      <td>9</td>\n",
       "      <td>4</td>\n",
       "      <td>00009.jpg</td>\n",
       "      <td>1</td>\n",
       "    </tr>\n",
       "    <tr>\n",
       "      <th>10</th>\n",
       "      <td>/home/rnam/Documents/ped/data/team500/2016-07-...</td>\n",
       "      <td>10</td>\n",
       "      <td>3</td>\n",
       "      <td>00010.jpg</td>\n",
       "      <td>1</td>\n",
       "    </tr>\n",
       "    <tr>\n",
       "      <th>11</th>\n",
       "      <td>/home/rnam/Documents/ped/data/team500/2016-07-...</td>\n",
       "      <td>11</td>\n",
       "      <td>3</td>\n",
       "      <td>00011.jpg</td>\n",
       "      <td>1</td>\n",
       "    </tr>\n",
       "    <tr>\n",
       "      <th>12</th>\n",
       "      <td>/home/rnam/Documents/ped/data/team500/2016-07-...</td>\n",
       "      <td>12</td>\n",
       "      <td>3</td>\n",
       "      <td>00012.jpg</td>\n",
       "      <td>0</td>\n",
       "    </tr>\n",
       "    <tr>\n",
       "      <th>13</th>\n",
       "      <td>/home/rnam/Documents/ped/data/team500/2016-07-...</td>\n",
       "      <td>13</td>\n",
       "      <td>3</td>\n",
       "      <td>00013.jpg</td>\n",
       "      <td>0</td>\n",
       "    </tr>\n",
       "  </tbody>\n",
       "</table>\n",
       "</div>"
      ],
      "text/plain": [
       "                                                 name  imageid  truecount  \\\n",
       "0   /home/rnam/Documents/ped/data/team500/2016-07-...        0          4   \n",
       "1   /home/rnam/Documents/ped/data/team500/2016-07-...        1          4   \n",
       "2   /home/rnam/Documents/ped/data/team500/2016-07-...        2          4   \n",
       "3   /home/rnam/Documents/ped/data/team500/2016-07-...        3          4   \n",
       "4   /home/rnam/Documents/ped/data/team500/2016-07-...        4          4   \n",
       "5   /home/rnam/Documents/ped/data/team500/2016-07-...        5          4   \n",
       "6   /home/rnam/Documents/ped/data/team500/2016-07-...        6          4   \n",
       "7   /home/rnam/Documents/ped/data/team500/2016-07-...        7          4   \n",
       "8   /home/rnam/Documents/ped/data/team500/2016-07-...        8          4   \n",
       "9   /home/rnam/Documents/ped/data/team500/2016-07-...        9          4   \n",
       "10  /home/rnam/Documents/ped/data/team500/2016-07-...       10          3   \n",
       "11  /home/rnam/Documents/ped/data/team500/2016-07-...       11          3   \n",
       "12  /home/rnam/Documents/ped/data/team500/2016-07-...       12          3   \n",
       "13  /home/rnam/Documents/ped/data/team500/2016-07-...       13          3   \n",
       "\n",
       "        image  predcount  \n",
       "0   00000.jpg          0  \n",
       "1   00001.jpg          0  \n",
       "2   00002.jpg          0  \n",
       "3   00003.jpg          0  \n",
       "4   00004.jpg          0  \n",
       "5   00005.jpg          0  \n",
       "6   00006.jpg          0  \n",
       "7   00007.jpg          1  \n",
       "8   00008.jpg          0  \n",
       "9   00009.jpg          1  \n",
       "10  00010.jpg          1  \n",
       "11  00011.jpg          1  \n",
       "12  00012.jpg          0  \n",
       "13  00013.jpg          0  "
      ]
     },
     "execution_count": 89,
     "metadata": {},
     "output_type": "execute_result"
    }
   ],
   "source": [
    "result.head(14)"
   ]
  },
  {
   "cell_type": "code",
   "execution_count": 94,
   "metadata": {
    "collapsed": false
   },
   "outputs": [
    {
     "data": {
      "text/plain": [
       "name         /home/rnam/Documents/ped/data/team500/2016-07-...\n",
       "imageid                                                     69\n",
       "truecount                                                    3\n",
       "image                                                00069.jpg\n",
       "predcount                                                    1\n",
       "Name: 69, dtype: object"
      ]
     },
     "execution_count": 94,
     "metadata": {},
     "output_type": "execute_result"
    }
   ],
   "source": [
    "result.iloc[69]"
   ]
  },
  {
   "cell_type": "code",
   "execution_count": 93,
   "metadata": {
    "collapsed": false
   },
   "outputs": [
    {
     "data": {
      "text/plain": [
       "3677"
      ]
     },
     "execution_count": 93,
     "metadata": {},
     "output_type": "execute_result"
    }
   ],
   "source": [
    "result.truecount.sum()"
   ]
  },
  {
   "cell_type": "code",
   "execution_count": 92,
   "metadata": {
    "collapsed": false
   },
   "outputs": [
    {
     "data": {
      "text/plain": [
       "777"
      ]
     },
     "execution_count": 92,
     "metadata": {},
     "output_type": "execute_result"
    }
   ],
   "source": [
    "result['predcount'].sum()"
   ]
  },
  {
   "cell_type": "code",
   "execution_count": 97,
   "metadata": {
    "collapsed": false
   },
   "outputs": [],
   "source": [
    "result['absdiff'] = abs(result['truecount'] - result['predcount'])*1.0 / result['truecount']"
   ]
  },
  {
   "cell_type": "code",
   "execution_count": 96,
   "metadata": {
    "collapsed": false
   },
   "outputs": [
    {
     "data": {
      "text/plain": [
       "0.7886864291542018"
      ]
     },
     "execution_count": 96,
     "metadata": {},
     "output_type": "execute_result"
    }
   ],
   "source": [
    "(3677-777)*1.0/3677"
   ]
  },
  {
   "cell_type": "code",
   "execution_count": 98,
   "metadata": {
    "collapsed": false
   },
   "outputs": [
    {
     "data": {
      "text/plain": [
       "0.7560049496865375"
      ]
     },
     "execution_count": 98,
     "metadata": {},
     "output_type": "execute_result"
    }
   ],
   "source": [
    "result['absdiff'].sum()/549"
   ]
  },
  {
   "cell_type": "code",
   "execution_count": null,
   "metadata": {
    "collapsed": true
   },
   "outputs": [],
   "source": []
  }
 ],
 "metadata": {
  "kernelspec": {
   "display_name": "Python [Root]",
   "language": "python",
   "name": "Python [Root]"
  },
  "language_info": {
   "codemirror_mode": {
    "name": "ipython",
    "version": 2
   },
   "file_extension": ".py",
   "mimetype": "text/x-python",
   "name": "python",
   "nbconvert_exporter": "python",
   "pygments_lexer": "ipython2",
   "version": "2.7.12"
  }
 },
 "nbformat": 4,
 "nbformat_minor": 0
}
