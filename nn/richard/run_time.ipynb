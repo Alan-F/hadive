{
 "cells": [
  {
   "cell_type": "code",
   "execution_count": 2,
   "metadata": {
    "collapsed": false
   },
   "outputs": [
    {
     "data": {
      "text/plain": [
       "True"
      ]
     },
     "execution_count": 2,
     "metadata": {},
     "output_type": "execute_result"
    }
   ],
   "source": [
    "import lutorpy as lua\n",
    "import numpy as np\n",
    "import pandas as pd\n",
    "from PIL import Image\n",
    "\n",
    "require(\"torch\")\n",
    "require('nn')\n",
    "require('cunn')\n",
    "# lua.LuaRuntime(zero_based_index=False)"
   ]
  },
  {
   "cell_type": "code",
   "execution_count": 3,
   "metadata": {
    "collapsed": true
   },
   "outputs": [],
   "source": [
    "def ReshapeImage(test):\n",
    "    im = Image.fromarray(test)\n",
    "    im = im.convert('RGB')\n",
    "    im_c = im.resize((24,32), 1)\n",
    "    return np.array(im_c).transpose(2,0,1)\n",
    "\n",
    "# def predict(model, array):\n",
    "#     image = np.array([i.astype(np.float64) for i in array])\n",
    "#     tensor_image = torch.fromNumpyArray(image)\n",
    "#     yhat = model._forward(tensor_image)\n",
    "#     return yhat.asNumpyArray()\n",
    "\n",
    "def normalize(ii, norm):\n",
    "    _temp = np.zeros(ii.shape)\n",
    "    for n in norm.keys():\n",
    "        _temp[n] = (ii[n] - norm[n]['mean']) / norm[n]['std']\n",
    "    return _temp"
   ]
  },
  {
   "cell_type": "code",
   "execution_count": 4,
   "metadata": {
    "collapsed": false
   },
   "outputs": [],
   "source": [
    "# -- load a model\n",
    "model = torch.load('/home/rnam/Documents/ped/notebook/test_model.t7')\n",
    "model._get(20)._add(nn.LogSoftMax())._add(nn.Exp())\n",
    "# model._add(nn.LogSoftMax())\n",
    "# model._add(nn.Exp())\n",
    "\n",
    "# -- load the mean/std\n",
    "# -- recenter\n",
    "params = torch.load('/home/rnam/Documents/ped/run/output/20160710_full_aug_balanced_m7.net')\n",
    "norm = {i:{'mean':0.0,'std':0.0} for i in range(3)}\n",
    "for j in range(3):\n",
    "    norm[j]['mean'] = params['mean'][j]\n",
    "    norm[j]['std'] = params['std'][j]\n",
    "    \n",
    "# -- import the data from pickle and transform data\n",
    "df = pd.read_pickle('/home/rnam/Documents/ped/data/20160708_snapshot/patch2.pkl')\n",
    "norm_images = np.array([normalize(ReshapeImage(i),norm) for i in df.patch.values])"
   ]
  },
  {
   "cell_type": "code",
   "execution_count": 5,
   "metadata": {
    "collapsed": false
   },
   "outputs": [],
   "source": [
    "# df2 = df[:1000]\n",
    "# im2 = norm_images[:1000]"
   ]
  },
  {
   "cell_type": "code",
   "execution_count": 18,
   "metadata": {
    "collapsed": false
   },
   "outputs": [],
   "source": [
    "# -- test the speed\n",
    "def p2():\n",
    "    interval = 3\n",
    "    n = 1000\n",
    "    scores = np.zeros(n)\n",
    "    for i in np.arange(0,n,interval):\n",
    "        prange = np.arange(i, np.minimum(i+interval,n))\n",
    "        y = predict(model, norm_images[prange])\n",
    "        for j, v in enumerate(prange):\n",
    "            scores[v] = np.argmax(y[j])\n",
    "    return scores"
   ]
  },
  {
   "cell_type": "code",
   "execution_count": 20,
   "metadata": {
    "collapsed": false
   },
   "outputs": [
    {
     "name": "stdout",
     "output_type": "stream",
     "text": [
      "1 loop, best of 3: 1min 6s per loop\n"
     ]
    }
   ],
   "source": [
    "%timeit p2()"
   ]
  },
  {
   "cell_type": "code",
   "execution_count": null,
   "metadata": {
    "collapsed": true
   },
   "outputs": [],
   "source": [
    "scores"
   ]
  },
  {
   "cell_type": "code",
   "execution_count": null,
   "metadata": {
    "collapsed": true
   },
   "outputs": [],
   "source": []
  },
  {
   "cell_type": "code",
   "execution_count": null,
   "metadata": {
    "collapsed": true
   },
   "outputs": [],
   "source": []
  },
  {
   "cell_type": "code",
   "execution_count": null,
   "metadata": {
    "collapsed": true
   },
   "outputs": [],
   "source": []
  }
 ],
 "metadata": {
  "kernelspec": {
   "display_name": "Python 2",
   "language": "python",
   "name": "python2"
  },
  "language_info": {
   "codemirror_mode": {
    "name": "ipython",
    "version": 2
   },
   "file_extension": ".py",
   "mimetype": "text/x-python",
   "name": "python",
   "nbconvert_exporter": "python",
   "pygments_lexer": "ipython2",
   "version": "2.7.11"
  }
 },
 "nbformat": 4,
 "nbformat_minor": 0
}
