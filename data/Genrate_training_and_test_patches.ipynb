{
 "cells": [
  {
   "cell_type": "code",
   "execution_count": 93,
   "metadata": {
    "collapsed": true
   },
   "outputs": [],
   "source": [
    "import numpy as np\n",
    "import pandas as pd\n",
    "import matplotlib.pyplot as plt\n",
    "from sklearn.cross_validation import train_test_split\n",
    "from PIL import Image\n",
    "import os"
   ]
  },
  {
   "cell_type": "code",
   "execution_count": 94,
   "metadata": {
    "collapsed": false
   },
   "outputs": [],
   "source": [
    "df = pd.read_pickle('patch2.pkl')"
   ]
  },
  {
   "cell_type": "code",
   "execution_count": 95,
   "metadata": {
    "collapsed": true
   },
   "outputs": [],
   "source": [
    "# -- based on this: http://stackoverflow.com/questions/7096323/python-pil-best-scaling-method-that-preserves-lines\n",
    "def ReshapeImage(test):\n",
    "    im = Image.fromarray(test)\n",
    "    im = im.convert('RGB')\n",
    "    im_c = im.resize((24,32), 1)\n",
    "    return np.array(im_c).transpose(2,0,1)"
   ]
  },
  {
   "cell_type": "code",
   "execution_count": 96,
   "metadata": {
    "collapsed": false
   },
   "outputs": [],
   "source": [
    "size = df[df.tag=='pos'].shape[0]"
   ]
  },
  {
   "cell_type": "code",
   "execution_count": 97,
   "metadata": {
    "collapsed": false
   },
   "outputs": [
    {
     "name": "stderr",
     "output_type": "stream",
     "text": [
      "/opt/rh/anaconda/root/lib/python2.7/site-packages/ipykernel/__main__.py:2: SettingWithCopyWarning: \n",
      "A value is trying to be set on a copy of a slice from a DataFrame.\n",
      "Try using .loc[row_indexer,col_indexer] = value instead\n",
      "\n",
      "See the the caveats in the documentation: http://pandas.pydata.org/pandas-docs/stable/indexing.html#indexing-view-versus-copy\n",
      "  from ipykernel import kernelapp as app\n",
      "/opt/rh/anaconda/root/lib/python2.7/site-packages/ipykernel/__main__.py:4: SettingWithCopyWarning: \n",
      "A value is trying to be set on a copy of a slice from a DataFrame.\n",
      "Try using .loc[row_indexer,col_indexer] = value instead\n",
      "\n",
      "See the the caveats in the documentation: http://pandas.pydata.org/pandas-docs/stable/indexing.html#indexing-view-versus-copy\n"
     ]
    }
   ],
   "source": [
    "df_pos = df[df.tag=='pos']\n",
    "df_pos['label'] = 1\n",
    "df_neg = df[df.tag=='neg']\n",
    "df_neg['label'] = 0"
   ]
  },
  {
   "cell_type": "code",
   "execution_count": 98,
   "metadata": {
    "collapsed": false
   },
   "outputs": [],
   "source": [
    "df_neg = df_neg.sample(n=df_pos.shape[0])"
   ]
  },
  {
   "cell_type": "code",
   "execution_count": 99,
   "metadata": {
    "collapsed": false
   },
   "outputs": [
    {
     "data": {
      "text/html": [
       "<div style=\"max-height:1000px;max-width:1500px;overflow:auto;\">\n",
       "<table border=\"1\" class=\"dataframe\">\n",
       "  <thead>\n",
       "    <tr style=\"text-align: right;\">\n",
       "      <th></th>\n",
       "      <th>tag</th>\n",
       "      <th>patch</th>\n",
       "      <th>path</th>\n",
       "      <th>label</th>\n",
       "    </tr>\n",
       "  </thead>\n",
       "  <tbody>\n",
       "    <tr>\n",
       "      <th>34255</th>\n",
       "      <td>neg</td>\n",
       "      <td>[[[155, 155, 155], [153, 153, 153], [151, 151,...</td>\n",
       "      <td>/gws/projects/project-computer_vision_capstone...</td>\n",
       "      <td>0</td>\n",
       "    </tr>\n",
       "    <tr>\n",
       "      <th>19204</th>\n",
       "      <td>neg</td>\n",
       "      <td>[[[135, 137, 134], [79, 81, 78], [106, 106, 10...</td>\n",
       "      <td>/gws/projects/project-computer_vision_capstone...</td>\n",
       "      <td>0</td>\n",
       "    </tr>\n",
       "    <tr>\n",
       "      <th>43969</th>\n",
       "      <td>neg</td>\n",
       "      <td>[[[151, 124, 193], [125, 107, 159], [108, 97, ...</td>\n",
       "      <td>/gws/projects/project-computer_vision_capstone...</td>\n",
       "      <td>0</td>\n",
       "    </tr>\n",
       "    <tr>\n",
       "      <th>9363</th>\n",
       "      <td>neg</td>\n",
       "      <td>[[[46, 45, 43], [48, 42, 42], [51, 42, 43], [6...</td>\n",
       "      <td>/gws/projects/project-computer_vision_capstone...</td>\n",
       "      <td>0</td>\n",
       "    </tr>\n",
       "    <tr>\n",
       "      <th>30324</th>\n",
       "      <td>neg</td>\n",
       "      <td>[[[182, 176, 164], [162, 156, 142], [149, 142,...</td>\n",
       "      <td>/gws/projects/project-computer_vision_capstone...</td>\n",
       "      <td>0</td>\n",
       "    </tr>\n",
       "  </tbody>\n",
       "</table>\n",
       "</div>"
      ],
      "text/plain": [
       "       tag                                              patch  \\\n",
       "34255  neg  [[[155, 155, 155], [153, 153, 153], [151, 151,...   \n",
       "19204  neg  [[[135, 137, 134], [79, 81, 78], [106, 106, 10...   \n",
       "43969  neg  [[[151, 124, 193], [125, 107, 159], [108, 97, ...   \n",
       "9363   neg  [[[46, 45, 43], [48, 42, 42], [51, 42, 43], [6...   \n",
       "30324  neg  [[[182, 176, 164], [162, 156, 142], [149, 142,...   \n",
       "\n",
       "                                                    path  label  \n",
       "34255  /gws/projects/project-computer_vision_capstone...      0  \n",
       "19204  /gws/projects/project-computer_vision_capstone...      0  \n",
       "43969  /gws/projects/project-computer_vision_capstone...      0  \n",
       "9363   /gws/projects/project-computer_vision_capstone...      0  \n",
       "30324  /gws/projects/project-computer_vision_capstone...      0  "
      ]
     },
     "execution_count": 99,
     "metadata": {},
     "output_type": "execute_result"
    }
   ],
   "source": [
    "frames = [df_neg, df_pos]\n",
    "df_pos_neg = pd.concat(frames)\n",
    "df_pos_neg.head()"
   ]
  },
  {
   "cell_type": "code",
   "execution_count": 100,
   "metadata": {
    "collapsed": false
   },
   "outputs": [],
   "source": [
    "df_pos_neg['reshaped'] = df_pos_neg.patch.apply(lambda x: ReshapeImage(x))"
   ]
  },
  {
   "cell_type": "code",
   "execution_count": 101,
   "metadata": {
    "collapsed": false
   },
   "outputs": [],
   "source": [
    "def shuffle(df, n=1, axis=0):     \n",
    "    df = df.copy()\n",
    "    for _ in range(n):\n",
    "        df.apply(np.random.shuffle, axis=axis)\n",
    "    return df"
   ]
  },
  {
   "cell_type": "code",
   "execution_count": 102,
   "metadata": {
    "collapsed": false
   },
   "outputs": [],
   "source": [
    "df_pos_neg = df_pos_neg.sample(n=df_pos_neg.shape[0])"
   ]
  },
  {
   "cell_type": "code",
   "execution_count": 103,
   "metadata": {
    "collapsed": false
   },
   "outputs": [
    {
     "data": {
      "text/html": [
       "<div style=\"max-height:1000px;max-width:1500px;overflow:auto;\">\n",
       "<table border=\"1\" class=\"dataframe\">\n",
       "  <thead>\n",
       "    <tr style=\"text-align: right;\">\n",
       "      <th></th>\n",
       "      <th>tag</th>\n",
       "      <th>patch</th>\n",
       "      <th>path</th>\n",
       "      <th>label</th>\n",
       "      <th>reshaped</th>\n",
       "    </tr>\n",
       "  </thead>\n",
       "  <tbody>\n",
       "    <tr>\n",
       "      <th>25255</th>\n",
       "      <td>pos</td>\n",
       "      <td>[[[77, 90, 106], [70, 83, 99], [57, 70, 86], [...</td>\n",
       "      <td>/gws/projects/project-computer_vision_capstone...</td>\n",
       "      <td>1</td>\n",
       "      <td>[[[77, 72, 64, 56, 53, 74, 74, 75, 77, 74, 62,...</td>\n",
       "    </tr>\n",
       "    <tr>\n",
       "      <th>35011</th>\n",
       "      <td>pos</td>\n",
       "      <td>[[[121, 107, 96], [67, 52, 45], [85, 72, 66], ...</td>\n",
       "      <td>/gws/projects/project-computer_vision_capstone...</td>\n",
       "      <td>1</td>\n",
       "      <td>[[[121, 73, 82, 98, 93, 84, 80, 78, 81, 90, 10...</td>\n",
       "    </tr>\n",
       "    <tr>\n",
       "      <th>21869</th>\n",
       "      <td>neg</td>\n",
       "      <td>[[[56, 71, 76], [56, 71, 76], [56, 71, 76], [5...</td>\n",
       "      <td>/gws/projects/project-computer_vision_capstone...</td>\n",
       "      <td>0</td>\n",
       "      <td>[[[56, 56, 56, 56, 57, 57, 57, 57, 56, 57, 57,...</td>\n",
       "    </tr>\n",
       "    <tr>\n",
       "      <th>6612</th>\n",
       "      <td>pos</td>\n",
       "      <td>[[[109, 119, 111], [94, 101, 94], [74, 79, 72]...</td>\n",
       "      <td>/gws/projects/project-computer_vision_capstone...</td>\n",
       "      <td>1</td>\n",
       "      <td>[[[109, 105, 96, 86, 75, 75, 77, 75, 70, 50, 3...</td>\n",
       "    </tr>\n",
       "    <tr>\n",
       "      <th>31485</th>\n",
       "      <td>neg</td>\n",
       "      <td>[[[166, 172, 170], [168, 174, 172], [168, 172,...</td>\n",
       "      <td>/gws/projects/project-computer_vision_capstone...</td>\n",
       "      <td>0</td>\n",
       "      <td>[[[166, 167, 168, 168, 167, 171, 177, 180, 181...</td>\n",
       "    </tr>\n",
       "  </tbody>\n",
       "</table>\n",
       "</div>"
      ],
      "text/plain": [
       "       tag                                              patch  \\\n",
       "25255  pos  [[[77, 90, 106], [70, 83, 99], [57, 70, 86], [...   \n",
       "35011  pos  [[[121, 107, 96], [67, 52, 45], [85, 72, 66], ...   \n",
       "21869  neg  [[[56, 71, 76], [56, 71, 76], [56, 71, 76], [5...   \n",
       "6612   pos  [[[109, 119, 111], [94, 101, 94], [74, 79, 72]...   \n",
       "31485  neg  [[[166, 172, 170], [168, 174, 172], [168, 172,...   \n",
       "\n",
       "                                                    path  label  \\\n",
       "25255  /gws/projects/project-computer_vision_capstone...      1   \n",
       "35011  /gws/projects/project-computer_vision_capstone...      1   \n",
       "21869  /gws/projects/project-computer_vision_capstone...      0   \n",
       "6612   /gws/projects/project-computer_vision_capstone...      1   \n",
       "31485  /gws/projects/project-computer_vision_capstone...      0   \n",
       "\n",
       "                                                reshaped  \n",
       "25255  [[[77, 72, 64, 56, 53, 74, 74, 75, 77, 74, 62,...  \n",
       "35011  [[[121, 73, 82, 98, 93, 84, 80, 78, 81, 90, 10...  \n",
       "21869  [[[56, 56, 56, 56, 57, 57, 57, 57, 56, 57, 57,...  \n",
       "6612   [[[109, 105, 96, 86, 75, 75, 77, 75, 70, 50, 3...  \n",
       "31485  [[[166, 167, 168, 168, 167, 171, 177, 180, 181...  "
      ]
     },
     "execution_count": 103,
     "metadata": {},
     "output_type": "execute_result"
    }
   ],
   "source": [
    "df_pos_neg.head()"
   ]
  },
  {
   "cell_type": "code",
   "execution_count": 104,
   "metadata": {
    "collapsed": false
   },
   "outputs": [
    {
     "data": {
      "text/plain": [
       "(11059, 5)"
      ]
     },
     "execution_count": 104,
     "metadata": {},
     "output_type": "execute_result"
    }
   ],
   "source": [
    "df_pos_neg[df_pos_neg.label==1].shape"
   ]
  },
  {
   "cell_type": "code",
   "execution_count": 105,
   "metadata": {
    "collapsed": false
   },
   "outputs": [
    {
     "data": {
      "text/plain": [
       "(11059, 5)"
      ]
     },
     "execution_count": 105,
     "metadata": {},
     "output_type": "execute_result"
    }
   ],
   "source": [
    "df_pos_neg[df_pos_neg.label==0].shape"
   ]
  },
  {
   "cell_type": "code",
   "execution_count": 106,
   "metadata": {
    "collapsed": false
   },
   "outputs": [
    {
     "data": {
      "text/html": [
       "<div style=\"max-height:1000px;max-width:1500px;overflow:auto;\">\n",
       "<table border=\"1\" class=\"dataframe\">\n",
       "  <thead>\n",
       "    <tr style=\"text-align: right;\">\n",
       "      <th></th>\n",
       "      <th>index</th>\n",
       "      <th>tag</th>\n",
       "      <th>patch</th>\n",
       "      <th>path</th>\n",
       "      <th>label</th>\n",
       "      <th>reshaped</th>\n",
       "    </tr>\n",
       "  </thead>\n",
       "  <tbody>\n",
       "    <tr>\n",
       "      <th>0</th>\n",
       "      <td>25255</td>\n",
       "      <td>pos</td>\n",
       "      <td>[[[77, 90, 106], [70, 83, 99], [57, 70, 86], [...</td>\n",
       "      <td>/gws/projects/project-computer_vision_capstone...</td>\n",
       "      <td>1</td>\n",
       "      <td>[[[77, 72, 64, 56, 53, 74, 74, 75, 77, 74, 62,...</td>\n",
       "    </tr>\n",
       "    <tr>\n",
       "      <th>1</th>\n",
       "      <td>35011</td>\n",
       "      <td>pos</td>\n",
       "      <td>[[[121, 107, 96], [67, 52, 45], [85, 72, 66], ...</td>\n",
       "      <td>/gws/projects/project-computer_vision_capstone...</td>\n",
       "      <td>1</td>\n",
       "      <td>[[[121, 73, 82, 98, 93, 84, 80, 78, 81, 90, 10...</td>\n",
       "    </tr>\n",
       "    <tr>\n",
       "      <th>2</th>\n",
       "      <td>21869</td>\n",
       "      <td>neg</td>\n",
       "      <td>[[[56, 71, 76], [56, 71, 76], [56, 71, 76], [5...</td>\n",
       "      <td>/gws/projects/project-computer_vision_capstone...</td>\n",
       "      <td>0</td>\n",
       "      <td>[[[56, 56, 56, 56, 57, 57, 57, 57, 56, 57, 57,...</td>\n",
       "    </tr>\n",
       "    <tr>\n",
       "      <th>3</th>\n",
       "      <td>6612</td>\n",
       "      <td>pos</td>\n",
       "      <td>[[[109, 119, 111], [94, 101, 94], [74, 79, 72]...</td>\n",
       "      <td>/gws/projects/project-computer_vision_capstone...</td>\n",
       "      <td>1</td>\n",
       "      <td>[[[109, 105, 96, 86, 75, 75, 77, 75, 70, 50, 3...</td>\n",
       "    </tr>\n",
       "    <tr>\n",
       "      <th>4</th>\n",
       "      <td>31485</td>\n",
       "      <td>neg</td>\n",
       "      <td>[[[166, 172, 170], [168, 174, 172], [168, 172,...</td>\n",
       "      <td>/gws/projects/project-computer_vision_capstone...</td>\n",
       "      <td>0</td>\n",
       "      <td>[[[166, 167, 168, 168, 167, 171, 177, 180, 181...</td>\n",
       "    </tr>\n",
       "    <tr>\n",
       "      <th>5</th>\n",
       "      <td>20634</td>\n",
       "      <td>neg</td>\n",
       "      <td>[[[141, 141, 141], [141, 141, 141], [141, 141,...</td>\n",
       "      <td>/gws/projects/project-computer_vision_capstone...</td>\n",
       "      <td>0</td>\n",
       "      <td>[[[141, 141, 141, 141, 141, 141, 141, 142, 143...</td>\n",
       "    </tr>\n",
       "    <tr>\n",
       "      <th>6</th>\n",
       "      <td>9408</td>\n",
       "      <td>pos</td>\n",
       "      <td>[[[79, 61, 61], [93, 75, 75], [104, 84, 85], [...</td>\n",
       "      <td>/gws/projects/project-computer_vision_capstone...</td>\n",
       "      <td>1</td>\n",
       "      <td>[[[79, 79, 81, 84, 88, 91, 94, 97, 100, 103, 1...</td>\n",
       "    </tr>\n",
       "    <tr>\n",
       "      <th>7</th>\n",
       "      <td>5909</td>\n",
       "      <td>pos</td>\n",
       "      <td>[[[238, 240, 239], [239, 241, 240], [241, 243,...</td>\n",
       "      <td>/gws/projects/project-computer_vision_capstone...</td>\n",
       "      <td>1</td>\n",
       "      <td>[[[238, 238, 239, 239, 240, 241, 242, 243, 242...</td>\n",
       "    </tr>\n",
       "    <tr>\n",
       "      <th>8</th>\n",
       "      <td>25964</td>\n",
       "      <td>pos</td>\n",
       "      <td>[[[187, 190, 183], [188, 191, 184], [159, 162,...</td>\n",
       "      <td>/gws/projects/project-computer_vision_capstone...</td>\n",
       "      <td>1</td>\n",
       "      <td>[[[187, 187, 186, 168, 156, 150, 157, 152, 107...</td>\n",
       "    </tr>\n",
       "    <tr>\n",
       "      <th>9</th>\n",
       "      <td>35237</td>\n",
       "      <td>neg</td>\n",
       "      <td>[[[85, 80, 77], [99, 86, 80], [113, 93, 86], [...</td>\n",
       "      <td>/gws/projects/project-computer_vision_capstone...</td>\n",
       "      <td>0</td>\n",
       "      <td>[[[85, 91, 100, 109, 115, 120, 120, 119, 114, ...</td>\n",
       "    </tr>\n",
       "  </tbody>\n",
       "</table>\n",
       "</div>"
      ],
      "text/plain": [
       "   index  tag                                              patch  \\\n",
       "0  25255  pos  [[[77, 90, 106], [70, 83, 99], [57, 70, 86], [...   \n",
       "1  35011  pos  [[[121, 107, 96], [67, 52, 45], [85, 72, 66], ...   \n",
       "2  21869  neg  [[[56, 71, 76], [56, 71, 76], [56, 71, 76], [5...   \n",
       "3   6612  pos  [[[109, 119, 111], [94, 101, 94], [74, 79, 72]...   \n",
       "4  31485  neg  [[[166, 172, 170], [168, 174, 172], [168, 172,...   \n",
       "5  20634  neg  [[[141, 141, 141], [141, 141, 141], [141, 141,...   \n",
       "6   9408  pos  [[[79, 61, 61], [93, 75, 75], [104, 84, 85], [...   \n",
       "7   5909  pos  [[[238, 240, 239], [239, 241, 240], [241, 243,...   \n",
       "8  25964  pos  [[[187, 190, 183], [188, 191, 184], [159, 162,...   \n",
       "9  35237  neg  [[[85, 80, 77], [99, 86, 80], [113, 93, 86], [...   \n",
       "\n",
       "                                                path  label  \\\n",
       "0  /gws/projects/project-computer_vision_capstone...      1   \n",
       "1  /gws/projects/project-computer_vision_capstone...      1   \n",
       "2  /gws/projects/project-computer_vision_capstone...      0   \n",
       "3  /gws/projects/project-computer_vision_capstone...      1   \n",
       "4  /gws/projects/project-computer_vision_capstone...      0   \n",
       "5  /gws/projects/project-computer_vision_capstone...      0   \n",
       "6  /gws/projects/project-computer_vision_capstone...      1   \n",
       "7  /gws/projects/project-computer_vision_capstone...      1   \n",
       "8  /gws/projects/project-computer_vision_capstone...      1   \n",
       "9  /gws/projects/project-computer_vision_capstone...      0   \n",
       "\n",
       "                                            reshaped  \n",
       "0  [[[77, 72, 64, 56, 53, 74, 74, 75, 77, 74, 62,...  \n",
       "1  [[[121, 73, 82, 98, 93, 84, 80, 78, 81, 90, 10...  \n",
       "2  [[[56, 56, 56, 56, 57, 57, 57, 57, 56, 57, 57,...  \n",
       "3  [[[109, 105, 96, 86, 75, 75, 77, 75, 70, 50, 3...  \n",
       "4  [[[166, 167, 168, 168, 167, 171, 177, 180, 181...  \n",
       "5  [[[141, 141, 141, 141, 141, 141, 141, 142, 143...  \n",
       "6  [[[79, 79, 81, 84, 88, 91, 94, 97, 100, 103, 1...  \n",
       "7  [[[238, 238, 239, 239, 240, 241, 242, 243, 242...  \n",
       "8  [[[187, 187, 186, 168, 156, 150, 157, 152, 107...  \n",
       "9  [[[85, 91, 100, 109, 115, 120, 120, 119, 114, ...  "
      ]
     },
     "execution_count": 106,
     "metadata": {},
     "output_type": "execute_result"
    }
   ],
   "source": [
    "df_pos_neg.reset_index(inplace=True)\n",
    "df_pos_neg.head(10)"
   ]
  },
  {
   "cell_type": "code",
   "execution_count": 107,
   "metadata": {
    "collapsed": true
   },
   "outputs": [],
   "source": [
    "labels = np.zeros(size*2)\n",
    "patches = np.zeros((size*2,3,32,24))"
   ]
  },
  {
   "cell_type": "code",
   "execution_count": 108,
   "metadata": {
    "collapsed": false
   },
   "outputs": [],
   "source": [
    "for i, patch in enumerate(df_pos_neg.reshaped.values):\n",
    "    labels[i] - patch\n",
    "    labels[i] = df_pos_neg.label.values[i]"
   ]
  },
  {
   "cell_type": "code",
   "execution_count": 109,
   "metadata": {
    "collapsed": false
   },
   "outputs": [],
   "source": [
    "X_train, X_val, y_train, y_val = train_test_split(patches, labels, test_size=.2, \n",
    "                                                  random_state=83) #, stratify=labels)"
   ]
  },
  {
   "cell_type": "code",
   "execution_count": 110,
   "metadata": {
    "collapsed": true
   },
   "outputs": [],
   "source": [
    "if not os.path.exists('jul11'):\n",
    "    os.makedirs('jul11')"
   ]
  },
  {
   "cell_type": "code",
   "execution_count": 115,
   "metadata": {
    "collapsed": false
   },
   "outputs": [],
   "source": [
    "np.save('jul11/X_train.npy', X_train)\n",
    "np.save('jul11/y_train.npy', y_train)\n"
   ]
  },
  {
   "cell_type": "code",
   "execution_count": 116,
   "metadata": {
    "collapsed": true
   },
   "outputs": [],
   "source": [
    "np.save('jul11/X_val.npy', X_val)\n",
    "np.save('jul11/y_val.npy', y_val)"
   ]
  },
  {
   "cell_type": "code",
   "execution_count": 111,
   "metadata": {
    "collapsed": false
   },
   "outputs": [
    {
     "data": {
      "text/plain": [
       "(17694, 3, 32, 24)"
      ]
     },
     "execution_count": 111,
     "metadata": {},
     "output_type": "execute_result"
    }
   ],
   "source": [
    "X_train.shape"
   ]
  },
  {
   "cell_type": "code",
   "execution_count": 112,
   "metadata": {
    "collapsed": false
   },
   "outputs": [
    {
     "data": {
      "text/plain": [
       "(4424,)"
      ]
     },
     "execution_count": 112,
     "metadata": {},
     "output_type": "execute_result"
    }
   ],
   "source": [
    "y_val.shape"
   ]
  },
  {
   "cell_type": "code",
   "execution_count": 113,
   "metadata": {
    "collapsed": false
   },
   "outputs": [
    {
     "data": {
      "text/plain": [
       "11059"
      ]
     },
     "execution_count": 113,
     "metadata": {},
     "output_type": "execute_result"
    }
   ],
   "source": [
    "size"
   ]
  },
  {
   "cell_type": "code",
   "execution_count": 114,
   "metadata": {
    "collapsed": false
   },
   "outputs": [
    {
     "data": {
      "text/plain": [
       "0"
      ]
     },
     "execution_count": 114,
     "metadata": {},
     "output_type": "execute_result"
    }
   ],
   "source": [
    "X_train.shape[0] + X_val.shape[0] - 2*11059"
   ]
  },
  {
   "cell_type": "code",
   "execution_count": 80,
   "metadata": {
    "collapsed": false
   },
   "outputs": [
    {
     "data": {
      "text/plain": [
       "array([ 1.,  0.,  1., ...,  1.,  0.,  0.])"
      ]
     },
     "execution_count": 80,
     "metadata": {},
     "output_type": "execute_result"
    }
   ],
   "source": [
    "y_val"
   ]
  },
  {
   "cell_type": "code",
   "execution_count": 83,
   "metadata": {
    "collapsed": false
   },
   "outputs": [
    {
     "data": {
      "text/plain": [
       "0.0"
      ]
     },
     "execution_count": 83,
     "metadata": {},
     "output_type": "execute_result"
    }
   ],
   "source": [
    "y_val[2198]"
   ]
  },
  {
   "cell_type": "code",
   "execution_count": 85,
   "metadata": {
    "collapsed": false
   },
   "outputs": [
    {
     "data": {
      "text/plain": [
       "(3, 32, 24)"
      ]
     },
     "execution_count": 85,
     "metadata": {},
     "output_type": "execute_result"
    }
   ],
   "source": [
    "X_train[2198].shape"
   ]
  },
  {
   "cell_type": "code",
   "execution_count": 90,
   "metadata": {
    "collapsed": true
   },
   "outputs": [],
   "source": [
    "a = np.load('tensors/X_val.npy')"
   ]
  },
  {
   "cell_type": "code",
   "execution_count": 91,
   "metadata": {
    "collapsed": false
   },
   "outputs": [
    {
     "data": {
      "text/plain": [
       "(4229, 3, 32, 24)"
      ]
     },
     "execution_count": 91,
     "metadata": {},
     "output_type": "execute_result"
    }
   ],
   "source": [
    "a.shape"
   ]
  },
  {
   "cell_type": "code",
   "execution_count": 117,
   "metadata": {
    "collapsed": false
   },
   "outputs": [],
   "source": [
    "b= np.load('jul11/X_train.npy')"
   ]
  },
  {
   "cell_type": "code",
   "execution_count": null,
   "metadata": {
    "collapsed": true
   },
   "outputs": [],
   "source": []
  }
 ],
 "metadata": {
  "kernelspec": {
   "display_name": "Python 2",
   "language": "python",
   "name": "python2"
  },
  "language_info": {
   "codemirror_mode": {
    "name": "ipython",
    "version": 2
   },
   "file_extension": ".py",
   "mimetype": "text/x-python",
   "name": "python",
   "nbconvert_exporter": "python",
   "pygments_lexer": "ipython2",
   "version": "2.7.11"
  }
 },
 "nbformat": 4,
 "nbformat_minor": 0
}
